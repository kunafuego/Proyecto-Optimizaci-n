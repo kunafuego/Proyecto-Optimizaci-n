{
 "cells": [
  {
   "cell_type": "markdown",
   "metadata": {},
   "source": [
    "# Creación de Datos Entrega 2"
   ]
  },
  {
   "cell_type": "markdown",
   "metadata": {},
   "source": [
    "En este archivo se crearán los datos que se utilizarán para simular el modelo del proyecto. Esta simulación se resolverá con la ayuda de pygurobi, una librería open source de python.\n",
    "\n",
    "En este archivo jupyter se hará uso de la librería *pandas*(no necesita que se descargue) para darle valores a los parámetros necesarios para la simulación. Estos serán guardados en DataFrames de la librería, y luego serán pasados a diccionarios de python. Cada uno de los parametros tendrá su propio diccionario, los cuales serán después leídos desde el archivo `main.py`.\n",
    "\n",
    "Cabe mencionar que se intentó utilizar datos de empresas reales, pero estas no estuvieron dispuestas a colaborar por temas de confidencialidad empresarial.\n",
    "\n",
    "Se simularán **1000 productos** para un espacio de **28 días**, lo que serían 4 semanas completas comenzando desde el lunes."
   ]
  },
  {
   "cell_type": "markdown",
   "metadata": {},
   "source": [
    "## Parámetros"
   ]
  },
  {
   "cell_type": "markdown",
   "metadata": {},
   "source": [
    "Existen básicamente dos tipos de parámetros. Los primeros son los que tienen como sufijo p(producto) y t(días), y otros que tienen como sufijo solo p. Por lo tanto, se creará un archivo .csv para cada uno de estos pares de parametros.\n",
    "\n",
    "Acá solo nos faltarían los parametros V<sub>q</sub> y PR. Dado que son solo 4 datos que se deben simular, se calcularán los valores aleatoriamente en rangos que nos parezcan razonables, para que luego se ocupen estos mismos valores en el archivo `main.py`"
   ]
  },
  {
   "cell_type": "markdown",
   "metadata": {},
   "source": [
    "### Parámetros con sufijo <sub>pt</sub>"
   ]
  },
  {
   "cell_type": "markdown",
   "metadata": {},
   "source": [
    "Comenzaremos por crear un DataFrame que tenga una fila para cada par (p,t)"
   ]
  },
  {
   "cell_type": "code",
   "execution_count": 23,
   "metadata": {},
   "outputs": [],
   "source": [
    "import pandas\n",
    "import random\n",
    "df_pt = pandas.DataFrame({\"p\": [x for x in range(1,101)]*28}).sort_values(\"p\")\n",
    "df_pt.insert(1, \"t\", [x for x in range(1,29)]*100)\n"
   ]
  },
  {
   "cell_type": "markdown",
   "metadata": {},
   "source": [
    "#### F<sub>pt</sub>"
   ]
  },
  {
   "cell_type": "markdown",
   "metadata": {},
   "source": [
    "Este parametro indica el costo fijo por hacer un pedido del producto *p* en el día *t*.\n",
    "Asumiremos que este costo solo varía por día de semana. Así, en el día 1 (primer lunes) y en el día 8 (segundo lunes) el costo fijo por pedir el producto *p* será el mismo. Se utiliza este supuesto porque en la vida real es así, pues las semanas son muy parecidas entre ellas en cuanto a temas de logística\n",
    "\n",
    "Para cada producto *p* se comenzará calculando un costo fijo representativo, cuyo valor variará entre $20.000 y $30.000 para cada producto *p*. Para hacerlo más realista aun, los precios\n",
    "de los costos fijos del producto *p* no podrán variar más de un 10% del costo fijo representativo."
   ]
  },
  {
   "cell_type": "code",
   "execution_count": 24,
   "metadata": {},
   "outputs": [],
   "source": [
    "costos_fijos = list()\n",
    "for p in range(100):\n",
    "    valor_representativo_p = random.randint(20000, 30000)\n",
    "    costos_fijos_p = list()\n",
    "    for t in range(7):\n",
    "        costos_fijos_p.append(random.randint(int(valor_representativo_p*0.9), int(valor_representativo_p*1.1)))\n",
    "    costos_fijos.extend(costos_fijos_p*4)\n",
    "df_pt.insert(2, \"F\", costos_fijos)"
   ]
  },
  {
   "cell_type": "markdown",
   "metadata": {},
   "source": [
    "### n<sub>pt</sub>"
   ]
  },
  {
   "cell_type": "markdown",
   "metadata": {},
   "source": [
    "Este parametro indica el costo de una unidad de *p* en el día *t*. Nuevamente asumiremos que para cada día de la semana, el producto va valer lo mismo en distintas semanas.\n",
    "\n",
    "El valor representativo de este parametro variará entre $1.000 y $5.000. Luego, el valor para cada día de la semana no podrá variar más de un 10% del valor representativo."
   ]
  },
  {
   "cell_type": "code",
   "execution_count": 25,
   "metadata": {},
   "outputs": [],
   "source": [
    "costos_unitarios = list()\n",
    "for p in range(100):\n",
    "    valor_representativo_p = random.randint(1000, 5000)\n",
    "    costos_unitarios_p = list()\n",
    "    for t in range(7):\n",
    "        costos_unitarios_p.append(random.randint(int(valor_representativo_p*0.9), int(valor_representativo_p*1.1)))\n",
    "    costos_unitarios.extend(costos_unitarios_p*4)\n",
    "df_pt.insert(3, \"n\", costos_unitarios)"
   ]
  },
  {
   "cell_type": "markdown",
   "metadata": {},
   "source": [
    "### b<sub>pt</sub>"
   ]
  },
  {
   "cell_type": "markdown",
   "metadata": {},
   "source": [
    "Este parametro indica el costo de guardar en bodega una unidad del producto *p* desde el día *t* hasta *t+1*. Nuevamente asumiremos que para cada día de la semana, el costo de bodegaje va se el mismo en distintas semanas.\n",
    "\n",
    "El valor representativo de este parametro variará entre $100 y $500. Luego, el valor para cada día de la semana no podrá variar más de un 10% del valor representativo."
   ]
  },
  {
   "cell_type": "code",
   "execution_count": 26,
   "metadata": {},
   "outputs": [],
   "source": [
    "costos_bodegaje = list()\n",
    "for p in range(100):\n",
    "    valor_representativo_p = random.randint(100, 500)\n",
    "    costos_bodegaje_p = list()\n",
    "    for t in range(7):\n",
    "        costos_bodegaje_p.append(random.randint(int(valor_representativo_p*0.9), int(valor_representativo_p*1.1)))\n",
    "    costos_bodegaje.extend(costos_bodegaje_p*4)\n",
    "df_pt.insert(4, \"b\", costos_bodegaje)"
   ]
  },
  {
   "cell_type": "markdown",
   "metadata": {},
   "source": [
    "### d<sub>pt</sub>"
   ]
  },
  {
   "cell_type": "markdown",
   "metadata": {},
   "source": [
    "Este parametro indica la demanda del producto *p* en el día *t*. En este caso no asumiremos que la demanda semana a semana es igual, porque pueden haber sucesos como fiestas nacionales que hacen variar bruscamente la demanda por ciertos bienes.\n",
    "\n",
    "El valor de este parametro variará entre 50 y 100 unidades diarias. No existe restricción de variación."
   ]
  },
  {
   "cell_type": "code",
   "execution_count": 27,
   "metadata": {},
   "outputs": [],
   "source": [
    "df_pt.insert(5, \"d\", [random.randint(50,100) for x in range(2800)])"
   ]
  },
  {
   "cell_type": "markdown",
   "metadata": {},
   "source": [
    "## Parámetros con sufijo <sub>p</sub>"
   ]
  },
  {
   "cell_type": "code",
   "execution_count": 28,
   "metadata": {},
   "outputs": [],
   "source": [
    "df_p = pandas.DataFrame({\"p\": [x for x in range(1,101)]}).sort_values(\"p\")"
   ]
  },
  {
   "cell_type": "markdown",
   "metadata": {},
   "source": [
    "### v<sub>p</sub>"
   ]
  },
  {
   "cell_type": "markdown",
   "metadata": {},
   "source": [
    "Este parametro considera el volumen ocupado por una unidad de *p*. Se tomará un valor aleatorio entre 0.001 m^3 y 0.003 m^3."
   ]
  },
  {
   "cell_type": "code",
   "execution_count": 29,
   "metadata": {},
   "outputs": [],
   "source": [
    "df_p.insert(1, \"v\", [random.uniform(0.001, 0.003) for _ in range(100)])"
   ]
  },
  {
   "cell_type": "markdown",
   "metadata": {},
   "source": [
    "### maxc<sub>p</sub>"
   ]
  },
  {
   "cell_type": "markdown",
   "metadata": {},
   "source": [
    "Este parámetro indica el volumen máximo que se puede transportar en un pedido del producto *p*.\n",
    "\n",
    " Esto simula el espacio de los camiones del proveedor del producto *p* que dejan para transportar productos *p*.\n",
    "\n",
    " \n",
    "Este tomará un valor aleatorio entre 2 y 2.5 m^3, lo cual serán 666 unidades de *p* en el peor caso, y 2.500 en el mejor."
   ]
  },
  {
   "cell_type": "code",
   "execution_count": 30,
   "metadata": {},
   "outputs": [],
   "source": [
    "df_p.insert(2, \"maxc\", [random.uniform(2,2.5) for _ in range(100)])"
   ]
  },
  {
   "cell_type": "markdown",
   "metadata": {},
   "source": [
    "### minc<sub>p</sub>"
   ]
  },
  {
   "cell_type": "markdown",
   "metadata": {},
   "source": [
    "Este parámetro indica la mínima cantidad de productos de *p* que se deben pedir en un pedido de *p*.\n",
    "\n",
    "Tomará un valor aleatorio entre 300 y 500 unidades.\n",
    "\n"
   ]
  },
  {
   "cell_type": "code",
   "execution_count": 31,
   "metadata": {},
   "outputs": [],
   "source": [
    "df_p.insert(3, \"minc\", [random.randint(300,500) for _ in range(100)])"
   ]
  },
  {
   "cell_type": "markdown",
   "metadata": {},
   "source": [
    "### z<sub>p</sub>"
   ]
  },
  {
   "cell_type": "markdown",
   "metadata": {},
   "source": [
    "Este parámetro indica el precio de venta del producto *p*. Este se calculará en función del máximo\n",
    "costo unitario que tenga *p* en los 28 días. Luego, el precio de venta va a ser aleatoriamente entre un 10% y un 30%\n",
    "mayor que este máximo costo unitario."
   ]
  },
  {
   "cell_type": "code",
   "execution_count": 32,
   "metadata": {},
   "outputs": [],
   "source": [
    "precios_ventas = list()\n",
    "for p in range(1,101):\n",
    "    precios_compra_p = df_pt[df_pt[\"p\"] == p]\n",
    "    precio_venta_p = random.randint(int(precios_compra_p[\"n\"].max()*1.1), int(precios_compra_p[\"n\"].max()*1.3))\n",
    "    precios_ventas.append(precio_venta_p)\n",
    "df_p.insert(4, \"z\", precios_ventas)"
   ]
  },
  {
   "cell_type": "markdown",
   "metadata": {},
   "source": [
    "### exp<sub>p</sub>"
   ]
  },
  {
   "cell_type": "markdown",
   "metadata": {},
   "source": [
    "Este parámetro cuántos días faltan para que venza un producto *p* después de haberlo comprado.\n",
    "Este tomará un valor entre 2 y 5 días."
   ]
  },
  {
   "cell_type": "code",
   "execution_count": 33,
   "metadata": {},
   "outputs": [],
   "source": [
    "df_p.insert(5, \"exp\", [random.randint(2,5) for x in range(100)])"
   ]
  },
  {
   "cell_type": "markdown",
   "metadata": {},
   "source": [
    "### u<sub>p</sub>"
   ]
  },
  {
   "cell_type": "markdown",
   "metadata": {},
   "source": [
    "Este parámetro indica el costo monetario de desechar una unidad del producto *p*.\n",
    "Este tomará un valor entre $10 y $100."
   ]
  },
  {
   "cell_type": "code",
   "execution_count": 34,
   "metadata": {},
   "outputs": [],
   "source": [
    "df_p.insert(6, \"u\", [random.randint(10,100) for x in range(100)])"
   ]
  },
  {
   "cell_type": "markdown",
   "metadata": {},
   "source": [
    "## Extras"
   ]
  },
  {
   "cell_type": "markdown",
   "metadata": {},
   "source": [
    "### V<sub>q</sub>"
   ]
  },
  {
   "cell_type": "markdown",
   "metadata": {},
   "source": [
    "Este parámetro indica qué volumen se puede almacenar en la bodega de los productos de tipo q. Estos se definirán directamente como diccionarios. Se define *q* como 3 subconjuntos de \n",
    "*p*. A(temperatura ambiente) van a ser 50 productos. R(refrigerados) otros 25 y C(congelados) los 25 restantes.\n",
    "\n",
    "Existen tres tipos de productos *q*:\n",
    "* Para los que están a temperatura ambiente, el volumen máximo será un valor aleatorio entre 90 y 100 m^3, lo que corresponderían a 30.000 unidades en el peor caso y 100.000 en el mejor. Esto será para los 50 productos *p* que están a temperatura ambiente.\n",
    "* Para los congelados, el volumen máximo variará entre 10 y 12 m^3, lo que corresponderán a 1.000\n",
    "* Para los refrigerados, el volumen máximo variará entre 10 y 12 m^3, lo que corresponde a "
   ]
  },
  {
   "cell_type": "code",
   "execution_count": 35,
   "metadata": {},
   "outputs": [
    {
     "ename": "TypeError",
     "evalue": "randint() missing 2 required positional arguments: 'a' and 'b'",
     "output_type": "error",
     "traceback": [
      "\u001b[1;31m---------------------------------------------------------------------------\u001b[0m",
      "\u001b[1;31mTypeError\u001b[0m                                 Traceback (most recent call last)",
      "\u001b[1;32m~\\AppData\\Local\\Temp/ipykernel_19972/389285846.py\u001b[0m in \u001b[0;36m<module>\u001b[1;34m\u001b[0m\n\u001b[0;32m      2\u001b[0m \u001b[0mR\u001b[0m \u001b[1;33m=\u001b[0m \u001b[1;33m[\u001b[0m\u001b[0mx\u001b[0m \u001b[1;32mfor\u001b[0m \u001b[0mx\u001b[0m \u001b[1;32min\u001b[0m \u001b[0mrange\u001b[0m\u001b[1;33m(\u001b[0m\u001b[1;36m51\u001b[0m\u001b[1;33m,\u001b[0m\u001b[1;36m76\u001b[0m\u001b[1;33m)\u001b[0m\u001b[1;33m]\u001b[0m\u001b[1;33m\u001b[0m\u001b[1;33m\u001b[0m\u001b[0m\n\u001b[0;32m      3\u001b[0m \u001b[0mC\u001b[0m \u001b[1;33m=\u001b[0m \u001b[1;33m[\u001b[0m\u001b[0mx\u001b[0m \u001b[1;32mfor\u001b[0m \u001b[0mx\u001b[0m \u001b[1;32min\u001b[0m \u001b[0mrange\u001b[0m\u001b[1;33m(\u001b[0m\u001b[1;36m76\u001b[0m\u001b[1;33m,\u001b[0m\u001b[1;36m101\u001b[0m\u001b[1;33m)\u001b[0m\u001b[1;33m]\u001b[0m\u001b[1;33m\u001b[0m\u001b[1;33m\u001b[0m\u001b[0m\n\u001b[1;32m----> 4\u001b[1;33m \u001b[0mV\u001b[0m \u001b[1;33m=\u001b[0m \u001b[1;33m{\u001b[0m\u001b[1;34m\"A\"\u001b[0m\u001b[1;33m:\u001b[0m \u001b[0mrandom\u001b[0m\u001b[1;33m.\u001b[0m\u001b[0mrandint\u001b[0m\u001b[1;33m(\u001b[0m\u001b[1;33m)\u001b[0m\u001b[1;33m,\u001b[0m \u001b[1;34m\"C\"\u001b[0m\u001b[1;33m:\u001b[0m \u001b[0mrandom\u001b[0m\u001b[1;33m.\u001b[0m\u001b[0mrandint\u001b[0m\u001b[1;33m(\u001b[0m\u001b[1;33m)\u001b[0m\u001b[1;33m,\u001b[0m \u001b[1;34m\"R\"\u001b[0m\u001b[1;33m:\u001b[0m \u001b[0mrandom\u001b[0m\u001b[1;33m.\u001b[0m\u001b[0mrandint\u001b[0m\u001b[1;33m(\u001b[0m\u001b[1;33m)\u001b[0m\u001b[1;33m}\u001b[0m\u001b[1;33m\u001b[0m\u001b[1;33m\u001b[0m\u001b[0m\n\u001b[0m",
      "\u001b[1;31mTypeError\u001b[0m: randint() missing 2 required positional arguments: 'a' and 'b'"
     ]
    }
   ],
   "source": [
    "A = [x for x in range(1,51)]\n",
    "R = [x for x in range(51,76)]\n",
    "C = [x for x in range(76,101)]\n",
    "V = {\"A\": random.randint(), \"C\": random.randint(), \"R\": random.randint()}"
   ]
  },
  {
   "cell_type": "markdown",
   "metadata": {},
   "source": [
    "### PR"
   ]
  },
  {
   "cell_type": "markdown",
   "metadata": {},
   "source": [
    "Este parámetro indica el presupuesto inicial del supermercado, el cual será un valor entre $5.000.000 y $7.000.000."
   ]
  },
  {
   "cell_type": "code",
   "execution_count": 38,
   "metadata": {},
   "outputs": [],
   "source": [
    "PR = random.randint(5000000, 7000000)"
   ]
  },
  {
   "cell_type": "markdown",
   "metadata": {},
   "source": [
    "## Pasar los DataFrames a diccionarios"
   ]
  },
  {
   "cell_type": "code",
   "execution_count": 39,
   "metadata": {},
   "outputs": [],
   "source": [
    "F = {(p,t): f for p,t,f in zip(df_pt[\"p\"], df_pt[\"t\"], df_pt[\"F\"])}\n",
    "n = {(p,t): n for p,t,n in zip(df_pt[\"p\"], df_pt[\"t\"], df_pt[\"n\"])}\n",
    "b = {(p,t): b for p,t,b in zip(df_pt[\"p\"], df_pt[\"t\"], df_pt[\"b\"])}\n",
    "d = {(p,t): d for p,t,d in zip(df_pt[\"p\"], df_pt[\"t\"], df_pt[\"d\"])}\n",
    "v = {p: v for p,v in zip(df_p[\"p\"], df_p[\"v\"])}\n",
    "minc = {p: minc for p,minc in zip(df_p[\"p\"], df_p[\"minc\"])}\n",
    "maxc = {p: maxc for p,maxc in zip(df_p[\"p\"], df_p[\"maxc\"])}\n",
    "z = {p: z for p,z in zip(df_p[\"p\"], df_p[\"z\"])}\n",
    "exp = {p: exp for p,exp in zip(df_p[\"p\"], df_p[\"exp\"])}\n",
    "u = {p: u for p,u in zip(df_p[\"p\"], df_p[\"u\"])}"
   ]
  }
 ],
 "metadata": {
  "interpreter": {
   "hash": "3e607f0b675676d2fe0d98835cbb1ee2b1465101948227ffe53bc7a9cc587982"
  },
  "kernelspec": {
   "display_name": "Python 3.8.10 64-bit",
   "language": "python",
   "name": "python3"
  },
  "language_info": {
   "codemirror_mode": {
    "name": "ipython",
    "version": 3
   },
   "file_extension": ".py",
   "mimetype": "text/x-python",
   "name": "python",
   "nbconvert_exporter": "python",
   "pygments_lexer": "ipython3",
   "version": "3.8.10"
  },
  "orig_nbformat": 4
 },
 "nbformat": 4,
 "nbformat_minor": 2
}
