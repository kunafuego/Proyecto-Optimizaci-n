{
 "cells": [
  {
   "cell_type": "markdown",
   "metadata": {},
   "source": [
    "# Creación de Datos Entrega 2"
   ]
  },
  {
   "cell_type": "markdown",
   "metadata": {},
   "source": [
    "En este archivo se crearán los datos que se utilizarán para simular el modelo del proyecto. Esta simulación se resolverá con la ayuda de pygurobi, una librería open source de python.\n",
    "\n",
    "En este archivo jupyter se hará uso de la librería *pandas*(no necesita que se descargue) para darle valores a los parámetros necesarios para la simulación. Estos serán guardados en arhivos .csv, los cuales serán después leídos desde el archivo `main.py`.\n",
    "\n",
    "Cabe mencionar que se intentó utilizar datos de empresas reales, pero estas no estuvieron dispuestas a colaborar por temas de confidencialidad empresarial.\\\\\n",
    "\n",
    "Se simularán **1000 productos** para un espacio de **28 días**, lo que serían 4 semanas completas comenzando desde el lunes."
   ]
  },
  {
   "cell_type": "markdown",
   "metadata": {},
   "source": [
    "## Parámetros"
   ]
  },
  {
   "cell_type": "markdown",
   "metadata": {},
   "source": [
    "Existen básicamente dos tipos de parámetros. Los primeros son los que tienen como sufijo p(producto) y t(días), y otros que tienen como sufijo solo p. Por lo tanto, se creará un archivo .csv para cada uno de estos pares de parametros.\n",
    "\n",
    "Acá solo nos faltarían los parametros V<sub>q</sub> y PR. Dado que son solo 4 datos que se deben simular, se calcularán los valores aleatoriamente en rangos que nos parezcan razonables, para que luego se ocupen estos mismos valores en el archivo `main.py`"
   ]
  },
  {
   "cell_type": "markdown",
   "metadata": {},
   "source": [
    "### Parámetros con sufijo <sub>pt</sub>"
   ]
  },
  {
   "cell_type": "markdown",
   "metadata": {},
   "source": [
    "Comenzaremos por crear un DataFrame que tenga una fila para cada par (p,t)"
   ]
  },
  {
   "cell_type": "code",
   "execution_count": 70,
   "metadata": {},
   "outputs": [
    {
     "name": "stdout",
     "output_type": "stream",
     "text": [
      "        p   t\n",
      "0       1   1\n",
      "2700    1   2\n",
      "300     1   3\n",
      "400     1   4\n",
      "2600    1   5\n",
      "...   ...  ..\n",
      "2299  100  24\n",
      "2399  100  25\n",
      "2499  100  26\n",
      "1299  100  27\n",
      "2799  100  28\n",
      "\n",
      "[2800 rows x 2 columns]\n"
     ]
    }
   ],
   "source": [
    "import pandas\n",
    "import random\n",
    "df_pt = pandas.DataFrame({\"p\": [x for x in range(1,101)]*28}).sort_values(\"p\")\n",
    "df_pt.insert(1, \"t\", [x for x in range(1,29)]*100)\n",
    "print(df_pt)"
   ]
  },
  {
   "cell_type": "markdown",
   "metadata": {},
   "source": [
    "#### F<sub>pt</sub>"
   ]
  },
  {
   "cell_type": "markdown",
   "metadata": {},
   "source": [
    "Este parametro indica el costo fijo por hacer un pedido del producto *p* en el día *t*.\n",
    "Asumiremos que este costo solo varía por día de semana. Así, en el día 1 (primer lunes) y en el día 8 (segundo lunes) el costo fijo por pedir el producto *p* será el mismo. Se utiliza este supuesto porque en la vida real es así, pues las semanas son muy parecidas entre ellas en cuanto a temas de logística\n",
    "\n",
    "Para cada producto *p* se comenzará calculando un costo fijo representativo, cuyo valor variará entre $20.000 y $30.000 para cada producto *p*. Para hacerlo más realista aun, los precios\n",
    "de los costos fijos del producto *p* no podrán variar más de un 10% del costo fijo representativo."
   ]
  },
  {
   "cell_type": "code",
   "execution_count": 71,
   "metadata": {},
   "outputs": [],
   "source": [
    "costos_fijos = list()\n",
    "for p in range(100):\n",
    "    valor_representativo_p = random.randint(20000, 30000)\n",
    "    costos_fijos_p = list()\n",
    "    for t in range(7):\n",
    "        costos_fijos_p.append(random.randint(int(valor_representativo_p*0.9), int(valor_representativo_p*1.1)))\n",
    "    costos_fijos.extend(costos_fijos_p*4)\n",
    "df_pt.insert(2, \"F\", costos_fijos)"
   ]
  },
  {
   "cell_type": "markdown",
   "metadata": {},
   "source": [
    "### n<sub>pt</sub>"
   ]
  },
  {
   "cell_type": "markdown",
   "metadata": {},
   "source": [
    "Este parametro indica el costo de una unidad de *p* en el día *t*. Nuevamente asumiremos que para cada día de la semana, el producto va valer lo mismo en distintas semanas.\n",
    "\n",
    "El valor representativo de este parametro variará entre $1.000 y $5.000. Luego, el valor para cada día de la semana no podrá variar más de un 10% del valor representativo."
   ]
  },
  {
   "cell_type": "code",
   "execution_count": 72,
   "metadata": {},
   "outputs": [],
   "source": [
    "costos_unitarios = list()\n",
    "for p in range(100):\n",
    "    valor_representativo_p = random.randint(1000, 5000)\n",
    "    costos_unitarios_p = list()\n",
    "    for t in range(7):\n",
    "        costos_unitarios_p.append(random.randint(int(valor_representativo_p*0.9), int(valor_representativo_p*1.1)))\n",
    "    costos_unitarios.extend(costos_unitarios_p*4)\n",
    "df_pt.insert(3, \"n\", costos_unitarios)"
   ]
  },
  {
   "cell_type": "markdown",
   "metadata": {},
   "source": [
    "### b<sub>pt</sub>"
   ]
  },
  {
   "cell_type": "markdown",
   "metadata": {},
   "source": [
    "Este parametro indica el costo de guardar en bodega una unidad del producto *p* desde el día *t* hasta *t+1*. Nuevamente asumiremos que para cada día de la semana, el costo de bodegaje va se el mismo en distintas semanas.\n",
    "\n",
    "El valor representativo de este parametro variará entre $100 y $500. Luego, el valor para cada día de la semana no podrá variar más de un 10% del valor representativo."
   ]
  },
  {
   "cell_type": "code",
   "execution_count": 73,
   "metadata": {},
   "outputs": [],
   "source": [
    "costos_bodegaje = list()\n",
    "for p in range(100):\n",
    "    valor_representativo_p = random.randint(100, 500)\n",
    "    costos_bodegaje_p = list()\n",
    "    for t in range(7):\n",
    "        costos_bodegaje_p.append(random.randint(int(valor_representativo_p*0.9), int(valor_representativo_p*1.1)))\n",
    "    costos_bodegaje.extend(costos_bodegaje_p*4)\n",
    "df_pt.insert(4, \"b\", costos_bodegaje)"
   ]
  },
  {
   "cell_type": "markdown",
   "metadata": {},
   "source": [
    "### d<sub>pt</sub>"
   ]
  },
  {
   "cell_type": "markdown",
   "metadata": {},
   "source": [
    "Este parametro indica la demanda del producto *p* en el día *t*. En este caso no asumiremos que la demanda semana a semana es igual, porque pueden haber sucesos como fiestas nacionales que hacen variar bruscamente la demanda por ciertos bienes.\n",
    "\n",
    "El valor representativo de este parametro variará entre 10 y 100 unidades diarias. No existe restricción de variación"
   ]
  },
  {
   "cell_type": "code",
   "execution_count": 74,
   "metadata": {},
   "outputs": [],
   "source": [
    "df_pt.insert(5, \"d\", [random.randint(10,100) for x in range(2800)])"
   ]
  },
  {
   "cell_type": "markdown",
   "metadata": {},
   "source": [
    "## Parámetros con sufijo <sub>p</sub>"
   ]
  },
  {
   "cell_type": "code",
   "execution_count": 87,
   "metadata": {},
   "outputs": [],
   "source": [
    "df_p = pandas.DataFrame({\"p\": [x for x in range(1,101)]}).sort_values(\"p\")"
   ]
  },
  {
   "cell_type": "markdown",
   "metadata": {},
   "source": [
    "### v<sub>p</sub>"
   ]
  },
  {
   "cell_type": "markdown",
   "metadata": {},
   "source": []
  },
  {
   "cell_type": "code",
   "execution_count": 88,
   "metadata": {},
   "outputs": [],
   "source": [
    "df_p.insert(1, \"v\", [random.randint(1,10) for x in range(100)])"
   ]
  },
  {
   "cell_type": "markdown",
   "metadata": {},
   "source": [
    "## maxc<sub>p</sub>"
   ]
  },
  {
   "cell_type": "markdown",
   "metadata": {},
   "source": []
  },
  {
   "cell_type": "code",
   "execution_count": 89,
   "metadata": {},
   "outputs": [],
   "source": [
    "df_p.insert(2, \"maxc\", [random.randint(100,1000) for x in range(100)])"
   ]
  },
  {
   "cell_type": "markdown",
   "metadata": {},
   "source": [
    "## minc<sub>p</sub>"
   ]
  },
  {
   "cell_type": "markdown",
   "metadata": {},
   "source": []
  },
  {
   "cell_type": "code",
   "execution_count": 90,
   "metadata": {},
   "outputs": [],
   "source": [
    "df_p.insert(3, \"minc\", [random.randint(1,10) for x in range(100)])"
   ]
  },
  {
   "cell_type": "markdown",
   "metadata": {},
   "source": [
    "## z<sub>p</sub>"
   ]
  },
  {
   "cell_type": "markdown",
   "metadata": {},
   "source": []
  },
  {
   "cell_type": "code",
   "execution_count": 91,
   "metadata": {},
   "outputs": [],
   "source": [
    "precios_ventas = list()\n",
    "for p in range(1,101):\n",
    "    precios_compra_p = df_pt[df_pt[\"p\"] == p]\n",
    "    precio_venta_p = random.randint(int(precios_compra_p[\"n\"].max()*1.1), int(precios_compra_p[\"n\"].max()*1.3))\n",
    "    precios_ventas.append(precio_venta_p)\n",
    "df_p.insert(4, \"z\", precios_ventas)"
   ]
  },
  {
   "cell_type": "markdown",
   "metadata": {},
   "source": [
    "## exp<sub>p</sub>"
   ]
  },
  {
   "cell_type": "markdown",
   "metadata": {},
   "source": []
  },
  {
   "cell_type": "code",
   "execution_count": 92,
   "metadata": {},
   "outputs": [],
   "source": [
    "df_p.insert(5, \"exp\", [random.randint(2,5) for x in range(100)])"
   ]
  },
  {
   "cell_type": "markdown",
   "metadata": {},
   "source": [
    "## u<sub>p</sub>"
   ]
  },
  {
   "cell_type": "markdown",
   "metadata": {},
   "source": []
  },
  {
   "cell_type": "code",
   "execution_count": 93,
   "metadata": {},
   "outputs": [],
   "source": [
    "df_p.insert(6, \"u\", [random.randint(1,100) for x in range(100)])"
   ]
  },
  {
   "cell_type": "markdown",
   "metadata": {},
   "source": [
    "### Extras"
   ]
  },
  {
   "cell_type": "markdown",
   "metadata": {},
   "source": [
    "## Pasar los datos a CSV"
   ]
  },
  {
   "cell_type": "markdown",
   "metadata": {},
   "source": []
  }
 ],
 "metadata": {
  "interpreter": {
   "hash": "3e607f0b675676d2fe0d98835cbb1ee2b1465101948227ffe53bc7a9cc587982"
  },
  "kernelspec": {
   "display_name": "Python 3.8.10 64-bit",
   "language": "python",
   "name": "python3"
  },
  "language_info": {
   "codemirror_mode": {
    "name": "ipython",
    "version": 3
   },
   "file_extension": ".py",
   "mimetype": "text/x-python",
   "name": "python",
   "nbconvert_exporter": "python",
   "pygments_lexer": "ipython3",
   "version": "3.8.10"
  },
  "orig_nbformat": 4
 },
 "nbformat": 4,
 "nbformat_minor": 2
}
